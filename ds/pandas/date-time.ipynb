{
 "cells": [
  {
   "cell_type": "code",
   "execution_count": 1,
   "metadata": {},
   "outputs": [],
   "source": [
    "import datetime as dt"
   ]
  },
  {
   "cell_type": "code",
   "execution_count": 5,
   "metadata": {},
   "outputs": [
    {
     "name": "stdout",
     "output_type": "stream",
     "text": [
      "2019-03-23 16:39:22.010826\n",
      "2019-03-23 16:39:22.011058\n"
     ]
    }
   ],
   "source": [
    "dt_obj = dt.datetime.now()\n",
    "print(dt_obj)\n",
    "dt_obj = dt.datetime.today()\n",
    "print(dt_obj)"
   ]
  },
  {
   "cell_type": "code",
   "execution_count": 10,
   "metadata": {},
   "outputs": [
    {
     "name": "stdout",
     "output_type": "stream",
     "text": [
      "2019-03-14\n"
     ]
    }
   ],
   "source": [
    "d = dt.date(2019, 3, 14)\n",
    "print(d)"
   ]
  },
  {
   "cell_type": "code",
   "execution_count": 13,
   "metadata": {},
   "outputs": [
    {
     "name": "stdout",
     "output_type": "stream",
     "text": [
      "2012-01-10\n"
     ]
    }
   ],
   "source": [
    "time_stamp = dt.date.fromtimestamp(1326244364)\n",
    "print(time_stamp)"
   ]
  },
  {
   "cell_type": "code",
   "execution_count": 17,
   "metadata": {},
   "outputs": [
    {
     "name": "stdout",
     "output_type": "stream",
     "text": [
      "00:00:00 11:34:36 11 34 36\n"
     ]
    }
   ],
   "source": [
    "a = dt.time()\n",
    "b = dt.time(11, 34, 36)\n",
    "print(a, b, b.hour, b.minute, b.second)"
   ]
  },
  {
   "cell_type": "code",
   "execution_count": 21,
   "metadata": {},
   "outputs": [
    {
     "name": "stdout",
     "output_type": "stream",
     "text": [
      "14 days, 13:59:06 1259946.0\n"
     ]
    }
   ],
   "source": [
    "t1 = dt.timedelta(weeks=2, days=5, hours=1)\n",
    "t2 = dt.timedelta(days=4, hours=11, seconds=54)\n",
    "t3 = t1 - t2\n",
    "print(t3, t3.total_seconds())"
   ]
  },
  {
   "cell_type": "code",
   "execution_count": 28,
   "metadata": {},
   "outputs": [
    {
     "name": "stdout",
     "output_type": "stream",
     "text": [
      "2019-03\n"
     ]
    }
   ],
   "source": [
    "now = dt.datetime.now()\n",
    "t = now.strftime(\"%Y-%m\")\n",
    "print(t)"
   ]
  },
  {
   "cell_type": "code",
   "execution_count": 29,
   "metadata": {},
   "outputs": [],
   "source": [
    "import pytz"
   ]
  },
  {
   "cell_type": "code",
   "execution_count": 34,
   "metadata": {},
   "outputs": [
    {
     "name": "stdout",
     "output_type": "stream",
     "text": [
      "2019-03-23 16:51:41.638601 2019-03-23 19:51:41.638716-04:00\n"
     ]
    }
   ],
   "source": [
    "local = dt.datetime.now()\n",
    "tz_NY = pytz.timezone('America/New_York')\n",
    "datetime_NY = dt.datetime.now(tz_NY)\n",
    "print(local, datetime_NY)"
   ]
  },
  {
   "cell_type": "code",
   "execution_count": null,
   "metadata": {},
   "outputs": [],
   "source": []
  }
 ],
 "metadata": {
  "kernelspec": {
   "display_name": "Python 3",
   "language": "python",
   "name": "python3"
  },
  "language_info": {
   "codemirror_mode": {
    "name": "ipython",
    "version": 3
   },
   "file_extension": ".py",
   "mimetype": "text/x-python",
   "name": "python",
   "nbconvert_exporter": "python",
   "pygments_lexer": "ipython3",
   "version": "3.7.1"
  }
 },
 "nbformat": 4,
 "nbformat_minor": 2
}
